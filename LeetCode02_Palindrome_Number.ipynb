{
  "nbformat": 4,
  "nbformat_minor": 0,
  "metadata": {
    "colab": {
      "provenance": [],
      "authorship_tag": "ABX9TyMi8m138+tjFRgyA9xH3IVw",
      "include_colab_link": true
    },
    "kernelspec": {
      "name": "python3",
      "display_name": "Python 3"
    },
    "language_info": {
      "name": "python"
    }
  },
  "cells": [
    {
      "cell_type": "markdown",
      "metadata": {
        "id": "view-in-github",
        "colab_type": "text"
      },
      "source": [
        "<a href=\"https://colab.research.google.com/github/MuhammadAhtishamYousaf/LeetCode-Solutions/blob/main/LeetCode02_Palindrome_Number.ipynb\" target=\"_parent\"><img src=\"https://colab.research.google.com/assets/colab-badge.svg\" alt=\"Open In Colab\"/></a>"
      ]
    },
    {
      "cell_type": "markdown",
      "source": [
        "## Given an `integer x`, return `true` if `x` is a `palindrome`, and false otherwise."
      ],
      "metadata": {
        "id": "6KZECVAN_D-P"
      }
    },
    {
      "cell_type": "code",
      "source": [
        "class Solution:\n",
        "    def isPalindrome(self, x: int) -> bool:\n",
        "        x = str(x) #Converting int to str because int is not substrictable\n",
        "        reverse_x = x[::-1] #Reversing the order(right to left) by slicing\n",
        "        palindrome = False  #Initializing the variable to use later\n",
        "        if x == reverse_x: #Comparing the L.H.S with R.H.S\n",
        "            palindrome = True #Changing the variable to True if condition is true\n",
        "        else:\n",
        "            palindrome = False\n",
        "        return palindrome #Return whatever the value in the var\n",
        "\n"
      ],
      "metadata": {
        "id": "6OkeG1W3R26s"
      },
      "execution_count": null,
      "outputs": []
    }
  ]
}