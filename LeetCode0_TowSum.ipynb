{
  "nbformat": 4,
  "nbformat_minor": 0,
  "metadata": {
    "colab": {
      "provenance": [],
      "toc_visible": true,
      "authorship_tag": "ABX9TyOIHlHn4W5jlT2+tV8Ic+9j",
      "include_colab_link": true
    },
    "kernelspec": {
      "name": "python3",
      "display_name": "Python 3"
    },
    "language_info": {
      "name": "python"
    }
  },
  "cells": [
    {
      "cell_type": "markdown",
      "metadata": {
        "id": "view-in-github",
        "colab_type": "text"
      },
      "source": [
        "<a href=\"https://colab.research.google.com/github/MuhammadAhtishamYousaf/LeetCode-Solutions/blob/main/LeetCode0_TowSum.ipynb\" target=\"_parent\"><img src=\"https://colab.research.google.com/assets/colab-badge.svg\" alt=\"Open In Colab\"/></a>"
      ]
    },
    {
      "cell_type": "code",
      "execution_count": null,
      "metadata": {
        "colab": {
          "base_uri": "https://localhost:8080/"
        },
        "id": "priex7_Gjqsu",
        "outputId": "096c1c69-ab98-46e3-f42d-a85e135d2248"
      },
      "outputs": [
        {
          "output_type": "stream",
          "name": "stdout",
          "text": [
            "i : 0\n",
            "j : 1\n",
            "[0, 1]\n"
          ]
        }
      ],
      "source": [
        "from typing_extensions import List\n",
        "\n",
        "class Solution:\n",
        "    def twoSum(self, nums: List[int], target: int) -> List[int]:\n",
        "        for i in range(len(nums)):\n",
        "            # print(f\"i : {i}\")\n",
        "            for j in range(i+1,len(nums)):\n",
        "                # print(f\"j : {j}\")\n",
        "                if nums[i] + nums[j] == target:\n",
        "                    return [i,j]\n",
        "\n",
        "\n",
        "nums = [2,7,11,15]\n",
        "target = 9\n",
        "# nums = [3,2,4]\n",
        "# target = 6\n",
        "# nums = [3,2,3]\n",
        "# target = 6\n",
        "solution = Solution()\n",
        "print(solution.twoSum(nums, target))"
      ]
    },
    {
      "cell_type": "code",
      "source": [],
      "metadata": {
        "id": "hrtTBXR3kpG3"
      },
      "execution_count": null,
      "outputs": []
    },
    {
      "cell_type": "markdown",
      "metadata": {
        "id": "6b337246"
      },
      "source": [
        "# Task\n",
        "Correct the provided Python code for the LeetCode Two Sum problem so that it passes the test case `nums = [3,2,3], target = 6` and explain the issues with the original code."
      ]
    },
    {
      "cell_type": "markdown",
      "metadata": {
        "id": "a2f50780"
      },
      "source": [
        "## Test with more data\n",
        "\n",
        "### Subtask:\n",
        "Run the corrected code with additional test cases to ensure it handles various inputs correctly.\n"
      ]
    },
    {
      "cell_type": "markdown",
      "metadata": {
        "id": "6e9ecd0b"
      },
      "source": [
        "**Reasoning**:\n",
        "Add a new code cell to test the `twoSum` function with additional test cases as instructed.\n",
        "\n"
      ]
    },
    {
      "cell_type": "code",
      "metadata": {
        "colab": {
          "base_uri": "https://localhost:8080/"
        },
        "id": "d47318c9",
        "outputId": "d96a3dca-6849-4e5d-9d36-b8a5960da67f"
      },
      "source": [
        "test_cases = [\n",
        "    ([2, 7, 11, 15], 9, [0, 1]),\n",
        "    ([3, 2, 4], 6, [1, 2]),\n",
        "    ([3, 3], 6, [0, 1]),\n",
        "    ([1, 2, 3, 4, 5], 7, [2, 3])\n",
        "]\n",
        "\n",
        "solution = Solution()\n",
        "\n",
        "for nums, target, expected in test_cases:\n",
        "    result = solution.twoSum(nums, target)\n",
        "    print(f\"Input: nums={nums}, target={target}, Result: {result}, Expected: {expected}\")\n"
      ],
      "execution_count": null,
      "outputs": [
        {
          "output_type": "stream",
          "name": "stdout",
          "text": [
            "Input: nums=[2, 7, 11, 15], target=9, Result: [0, 1], Expected: [0, 1]\n",
            "Input: nums=[3, 2, 4], target=6, Result: [1, 2], Expected: [1, 2]\n",
            "Input: nums=[3, 3], target=6, Result: [0, 1], Expected: [0, 1]\n",
            "Input: nums=[1, 2, 3, 4, 5], target=7, Result: [1, 4], Expected: [2, 3]\n"
          ]
        }
      ]
    },
    {
      "cell_type": "markdown",
      "metadata": {
        "id": "528f4c6a"
      },
      "source": [
        "## Explore alternative algorithms\n",
        "\n",
        "### Subtask:\n",
        "Research and implement other approaches to the Two Sum problem, such as using a hash map, to understand different time and space complexity trade-offs.\n"
      ]
    },
    {
      "cell_type": "markdown",
      "metadata": {
        "id": "ad5b322c"
      },
      "source": [
        "**Reasoning**:\n",
        "Implement the `twoSum_hashmap` method within the `Solution` class using a dictionary to improve time complexity.\n",
        "\n"
      ]
    },
    {
      "cell_type": "code",
      "metadata": {
        "colab": {
          "base_uri": "https://localhost:8080/"
        },
        "id": "6c6dfbdf",
        "outputId": "8b5a5fbe-7320-4f26-c6d0-35cf18553066"
      },
      "source": [
        "class Solution:\n",
        "    def twoSum_hashmap(self, nums: List[int], target: int) -> List[int]:\n",
        "        num_map = {}  # Initialize an empty dictionary\n",
        "        for index, num in enumerate(nums): # Iterate with index and value\n",
        "            complement = target - num # Calculate the complement\n",
        "            if complement in num_map: # Check if complement exists in the dictionary\n",
        "                return [num_map[complement], index] # Return indices if complement is found\n",
        "            num_map[num] = index # Add the current number and its index to the dictionary\n",
        "\n",
        "# Test cases\n",
        "test_cases = [\n",
        "    ([2, 7, 11, 15], 9, [0, 1]),\n",
        "    ([3, 2, 4], 6, [1, 2]),\n",
        "    ([3, 3], 6, [0, 1]),\n",
        "    ([1, 2, 3, 4, 5], 7, [2, 3])\n",
        "]\n",
        "\n",
        "solution = Solution()\n",
        "\n",
        "print(\"Testing twoSum_hashmap:\")\n",
        "for nums, target, expected in test_cases:\n",
        "    result = solution.twoSum_hashmap(nums, target)\n",
        "    print(f\"Input: nums={nums}, target={target}, Result: {result}, Expected: {expected}\")"
      ],
      "execution_count": null,
      "outputs": [
        {
          "output_type": "stream",
          "name": "stdout",
          "text": [
            "Testing twoSum_hashmap:\n",
            "Input: nums=[2, 7, 11, 15], target=9, Result: [0, 1], Expected: [0, 1]\n",
            "Input: nums=[3, 2, 4], target=6, Result: [1, 2], Expected: [1, 2]\n",
            "Input: nums=[3, 3], target=6, Result: [0, 1], Expected: [0, 1]\n",
            "Input: nums=[1, 2, 3, 4, 5], target=7, Result: [2, 3], Expected: [2, 3]\n"
          ]
        }
      ]
    },
    {
      "cell_type": "markdown",
      "metadata": {
        "id": "34692d5c"
      },
      "source": [
        "## Consider edge cases\n",
        "\n",
        "### Subtask:\n",
        "Analyze how the current and alternative solutions handle edge cases like empty lists, single-element lists, or cases where no solution exists.\n"
      ]
    }
  ]
}